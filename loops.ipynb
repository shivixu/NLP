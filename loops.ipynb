{
 "cells": [
  {
   "cell_type": "code",
   "execution_count": 1,
   "id": "3e90fef6-c3d2-4181-bdd0-fd1284ef2899",
   "metadata": {},
   "outputs": [
    {
     "name": "stdout",
     "output_type": "stream",
     "text": [
      "Hey\n"
     ]
    }
   ],
   "source": [
    "print(\"Hey\")\n"
   ]
  },
  {
   "cell_type": "code",
   "execution_count": 3,
   "id": "40f7225f-0c5f-4898-9782-1a48d0e14e51",
   "metadata": {},
   "outputs": [
    {
     "name": "stdout",
     "output_type": "stream",
     "text": [
      "0\n",
      "1\n",
      "2\n",
      "3\n",
      "4\n"
     ]
    }
   ],
   "source": [
    "for i in range(5):\n",
    "    print(i)"
   ]
  },
  {
   "cell_type": "code",
   "execution_count": 5,
   "id": "d7d4f4fe-7c5f-41d3-a2ca-b8231b2869ae",
   "metadata": {},
   "outputs": [
    {
     "name": "stdout",
     "output_type": "stream",
     "text": [
      "S\n",
      "h\n",
      "i\n",
      "v\n",
      "i\n"
     ]
    }
   ],
   "source": [
    "str=\"Shivi\"\n",
    "for i in str:\n",
    "    print(i)\n",
    "    "
   ]
  },
  {
   "cell_type": "code",
   "execution_count": 13,
   "id": "3215e497-33a3-4962-80bd-48af880ab3d2",
   "metadata": {},
   "outputs": [
    {
     "name": "stdout",
     "output_type": "stream",
     "text": [
      "Shivi Agarwal\n",
      "Shivi Agarwal\n",
      "Shivi Agarwal\n",
      "Shivi Agarwal\n",
      "Shivi Agarwal\n"
     ]
    }
   ],
   "source": [
    "str=\"Shivi\"\n",
    "for i in str:\n",
    "    print(str,\"Agarwal\")"
   ]
  },
  {
   "cell_type": "code",
   "execution_count": 16,
   "id": "6a7d064d-172c-485b-82ba-6070b1cc7716",
   "metadata": {},
   "outputs": [
    {
     "name": "stdout",
     "output_type": "stream",
     "text": [
      "Cloning into 'NLP'...\n",
      "remote: Enumerating objects: 3, done.\u001b[K\n",
      "remote: Counting objects: 100% (3/3), done.\u001b[K\n",
      "remote: Total 3 (delta 0), reused 0 (delta 0), pack-reused 0\u001b[K\n",
      "Receiving objects: 100% (3/3), done.\n"
     ]
    }
   ],
   "source": [
    "!git clone https://github.com/shivixu/NLP.git\n"
   ]
  },
  {
   "cell_type": "code",
   "execution_count": null,
   "id": "df0d1a1e-505d-4d26-899b-892d27a5379e",
   "metadata": {},
   "outputs": [],
   "source": []
  }
 ],
 "metadata": {
  "kernelspec": {
   "display_name": "Python 3 (ipykernel)",
   "language": "python",
   "name": "python3"
  },
  "language_info": {
   "codemirror_mode": {
    "name": "ipython",
    "version": 3
   },
   "file_extension": ".py",
   "mimetype": "text/x-python",
   "name": "python",
   "nbconvert_exporter": "python",
   "pygments_lexer": "ipython3",
   "version": "3.12.4"
  }
 },
 "nbformat": 4,
 "nbformat_minor": 5
}
