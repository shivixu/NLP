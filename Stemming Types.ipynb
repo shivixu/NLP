{
 "cells": [
  {
   "cell_type": "markdown",
   "id": "5369152d-5d01-4631-a9a8-d3bd641d8432",
   "metadata": {},
   "source": [
    "### Stemming \n",
    "It is used for classification systems in which words are reduced to their base/stem.\n"
   ]
  },
  {
   "cell_type": "markdown",
   "id": "495b412d-45b0-4686-9c9f-3bd9fba54394",
   "metadata": {},
   "source": [
    "### PorterStemmer\n",
    "Its a class in module stem.\n",
    "Its not that powerful as it gives inaccurate results mostly. "
   ]
  },
  {
   "cell_type": "code",
   "execution_count": 4,
   "id": "42caf0fa-e518-4612-beae-4bdcf078bae6",
   "metadata": {},
   "outputs": [
    {
     "name": "stdout",
     "output_type": "stream",
     "text": [
      "Cloning into 'NLP'...\n",
      "remote: Enumerating objects: 13, done.\u001b[K\n",
      "remote: Counting objects: 100% (13/13), done.\u001b[K\n",
      "remote: Compressing objects: 100% (11/11), done.\u001b[K\n",
      "remote: Total 13 (delta 2), reused 0 (delta 0), pack-reused 0\u001b[K\n",
      "Receiving objects: 100% (13/13), 7.02 KiB | 3.51 MiB/s, done.\n",
      "Resolving deltas: 100% (2/2), done.\n"
     ]
    }
   ],
   "source": [
    "!git clone https://github.com/shivixu/NLP.git"
   ]
  },
  {
   "cell_type": "code",
   "execution_count": 6,
   "id": "9fbaec7c-3e33-4cf9-862a-4205ba50435c",
   "metadata": {},
   "outputs": [
    {
     "name": "stdout",
     "output_type": "stream",
     "text": [
      "Requirement already satisfied: nltk in /opt/anaconda3/lib/python3.12/site-packages (3.8.1)\n",
      "Requirement already satisfied: click in /opt/anaconda3/lib/python3.12/site-packages (from nltk) (8.1.7)\n",
      "Requirement already satisfied: joblib in /opt/anaconda3/lib/python3.12/site-packages (from nltk) (1.4.2)\n",
      "Requirement already satisfied: regex>=2021.8.3 in /opt/anaconda3/lib/python3.12/site-packages (from nltk) (2023.10.3)\n",
      "Requirement already satisfied: tqdm in /opt/anaconda3/lib/python3.12/site-packages (from nltk) (4.66.4)\n"
     ]
    }
   ],
   "source": [
    "!pip install nltk"
   ]
  },
  {
   "cell_type": "code",
   "execution_count": 8,
   "id": "76ae4d62-5b60-4a23-9f58-f0b157987c27",
   "metadata": {},
   "outputs": [],
   "source": [
    "from nltk.stem import PorterStemmer"
   ]
  },
  {
   "cell_type": "code",
   "execution_count": 10,
   "id": "809bbaf5-b79e-4242-a2fe-661f453898b3",
   "metadata": {},
   "outputs": [],
   "source": [
    "stemming = PorterStemmer()"
   ]
  },
  {
   "cell_type": "code",
   "execution_count": 14,
   "id": "1f01c8d0-fcc3-4868-881f-b04da913a44b",
   "metadata": {},
   "outputs": [],
   "source": [
    "words = [\"eating\",\"eats\",\"eaten\",\"writes\",\"writing\",\"programming\",\"programs\",\"finally\",\"finalized\",\"final\",\"history\"]"
   ]
  },
  {
   "cell_type": "code",
   "execution_count": 16,
   "id": "f5c3e16f-4109-42da-9e57-8db78e4a3eaf",
   "metadata": {},
   "outputs": [
    {
     "name": "stdout",
     "output_type": "stream",
     "text": [
      "eating ----> eat\n",
      "eats ----> eat\n",
      "eaten ----> eaten\n",
      "writes ----> write\n",
      "writing ----> write\n",
      "programming ----> program\n",
      "programs ----> program\n",
      "finally ----> final\n",
      "finalized ----> final\n",
      "final ----> final\n",
      "history ----> histori\n"
     ]
    }
   ],
   "source": [
    "for word in words:\n",
    "    print(word,\"---->\",stemming.stem(word))"
   ]
  },
  {
   "cell_type": "code",
   "execution_count": 18,
   "id": "2ca9dd3e-056c-4c84-9090-5c6b3fddc007",
   "metadata": {},
   "outputs": [
    {
     "data": {
      "text/plain": [
       "'congratul'"
      ]
     },
     "execution_count": 18,
     "metadata": {},
     "output_type": "execute_result"
    }
   ],
   "source": [
    "stemming.stem(\"congratulations\") ##It did not give a meaningful word"
   ]
  },
  {
   "cell_type": "code",
   "execution_count": 20,
   "id": "0c99a6b8-51f8-4f2b-986f-ba136c95d7ce",
   "metadata": {},
   "outputs": [
    {
     "data": {
      "text/plain": [
       "'sit'"
      ]
     },
     "execution_count": 20,
     "metadata": {},
     "output_type": "execute_result"
    }
   ],
   "source": [
    "stemming.stem(\"sitting\") ##Gave a meaningful word"
   ]
  },
  {
   "cell_type": "markdown",
   "id": "be3f3a32-ae65-4dd5-a19b-fca13fd03d78",
   "metadata": {},
   "source": [
    "### RegexpStemmer class\n",
    "It takes a regular expression and removes prefixes and suffixes that matches the expression."
   ]
  },
  {
   "cell_type": "code",
   "execution_count": 24,
   "id": "31b76b7e-fa3d-432b-9875-bb5b40644781",
   "metadata": {},
   "outputs": [],
   "source": [
    "from nltk.stem import RegexpStemmer"
   ]
  },
  {
   "cell_type": "code",
   "execution_count": 30,
   "id": "86183d93-e929-4f04-a990-515fbca78f7f",
   "metadata": {},
   "outputs": [],
   "source": [
    "stemmer = RegexpStemmer('ing$|s$|e$|able$', min=4)"
   ]
  },
  {
   "cell_type": "code",
   "execution_count": 46,
   "id": "6560857f-0f96-4cce-9091-3d33c7cae659",
   "metadata": {},
   "outputs": [
    {
     "data": {
      "text/plain": [
       "'eat'"
      ]
     },
     "execution_count": 46,
     "metadata": {},
     "output_type": "execute_result"
    }
   ],
   "source": [
    "stemmer.stem(\"eating\")"
   ]
  },
  {
   "cell_type": "markdown",
   "id": "f327972a-8368-411c-8256-71a57cd5ce48",
   "metadata": {},
   "source": [
    "### Snowball Stemmer\n",
    "\n",
    "More better technique than PorterStemmmer"
   ]
  },
  {
   "cell_type": "code",
   "execution_count": 51,
   "id": "024f3cff-5a18-44fc-bb61-97aeb69ad35a",
   "metadata": {},
   "outputs": [],
   "source": [
    "from nltk.stem import SnowballStemmer"
   ]
  },
  {
   "cell_type": "code",
   "execution_count": 53,
   "id": "a1efbafc-b173-40cb-995a-421eb53e2738",
   "metadata": {},
   "outputs": [],
   "source": [
    "snow = SnowballStemmer(\"english\") ##powered in many languages"
   ]
  },
  {
   "cell_type": "code",
   "execution_count": 55,
   "id": "3e0a3b88-8550-4b7e-a50d-de3321f48ae5",
   "metadata": {},
   "outputs": [
    {
     "name": "stdout",
     "output_type": "stream",
     "text": [
      "eating ----> eat\n",
      "eats ----> eat\n",
      "eaten ----> eaten\n",
      "writes ----> write\n",
      "writing ----> write\n",
      "programming ----> program\n",
      "programs ----> program\n",
      "finally ----> final\n",
      "finalized ----> final\n",
      "final ----> final\n",
      "history ----> histori\n"
     ]
    }
   ],
   "source": [
    "for word in words:\n",
    "    print(word,\"---->\",snow.stem(word))"
   ]
  },
  {
   "cell_type": "code",
   "execution_count": 57,
   "id": "e7d6337c-7a27-47cd-83cf-151678864c19",
   "metadata": {},
   "outputs": [
    {
     "data": {
      "text/plain": [
       "('fairli', 'sportingli')"
      ]
     },
     "execution_count": 57,
     "metadata": {},
     "output_type": "execute_result"
    }
   ],
   "source": [
    "##Difference between portersetmmer & snowballstemmer\n",
    "stemming.stem(\"fairly\"), stemming.stem(\"sportingly\")  ##PorterStemmer"
   ]
  },
  {
   "cell_type": "code",
   "execution_count": 59,
   "id": "46582258-0304-4b80-bebf-e0355541f997",
   "metadata": {},
   "outputs": [
    {
     "data": {
      "text/plain": [
       "('fair', 'sport')"
      ]
     },
     "execution_count": 59,
     "metadata": {},
     "output_type": "execute_result"
    }
   ],
   "source": [
    "snow.stem(\"fairly\"), snow.stem(\"sportingly\")  ##SnowballStemmer"
   ]
  },
  {
   "cell_type": "code",
   "execution_count": null,
   "id": "14e9a3cd-e08e-4e97-bbcb-15a6db5afb31",
   "metadata": {},
   "outputs": [],
   "source": []
  }
 ],
 "metadata": {
  "kernelspec": {
   "display_name": "Python 3 (ipykernel)",
   "language": "python",
   "name": "python3"
  },
  "language_info": {
   "codemirror_mode": {
    "name": "ipython",
    "version": 3
   },
   "file_extension": ".py",
   "mimetype": "text/x-python",
   "name": "python",
   "nbconvert_exporter": "python",
   "pygments_lexer": "ipython3",
   "version": "3.12.4"
  }
 },
 "nbformat": 4,
 "nbformat_minor": 5
}
