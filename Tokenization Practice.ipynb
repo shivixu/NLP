{
 "cells": [
  {
   "cell_type": "markdown",
   "id": "0fc76b4e-0851-4474-aad0-e640894dddad",
   "metadata": {},
   "source": [
    "!git clone https://github.com/shivixu/NLP.git"
   ]
  },
  {
   "cell_type": "markdown",
   "id": "ca12a412-2ae5-4ad3-8196-18ea2321fe4f",
   "metadata": {},
   "source": [
    "### Tokenization - install nltk library\n",
    "Tokenization means : Paragraphs --> sentences/tokens or \n",
    "Sentence --> words / tokens"
   ]
  },
  {
   "cell_type": "code",
   "execution_count": 4,
   "id": "d358656a-b643-41b6-83ac-c65fee569b5d",
   "metadata": {},
   "outputs": [
    {
     "name": "stdout",
     "output_type": "stream",
     "text": [
      "Requirement already satisfied: nltk in /opt/anaconda3/lib/python3.12/site-packages (3.8.1)\n",
      "Requirement already satisfied: click in /opt/anaconda3/lib/python3.12/site-packages (from nltk) (8.1.7)\n",
      "Requirement already satisfied: joblib in /opt/anaconda3/lib/python3.12/site-packages (from nltk) (1.4.2)\n",
      "Requirement already satisfied: regex>=2021.8.3 in /opt/anaconda3/lib/python3.12/site-packages (from nltk) (2023.10.3)\n",
      "Requirement already satisfied: tqdm in /opt/anaconda3/lib/python3.12/site-packages (from nltk) (4.66.4)\n"
     ]
    }
   ],
   "source": [
    "!pip install nltk"
   ]
  },
  {
   "cell_type": "code",
   "execution_count": 6,
   "id": "d058ec3f-b1d9-4bde-b25d-748c5c089837",
   "metadata": {},
   "outputs": [],
   "source": [
    "## corpus = paragraph\n",
    "corpus= '''Hello! My name is Shivi Agarwal. I am learning Gen AI. \n",
    "'''"
   ]
  },
  {
   "cell_type": "code",
   "execution_count": 8,
   "id": "658ab88c-62ed-4b35-ace0-845873c00c5b",
   "metadata": {},
   "outputs": [
    {
     "data": {
      "text/plain": [
       "'Hello! My name is Shivi Agarwal. I am learning Gen AI. \\n'"
      ]
     },
     "execution_count": 8,
     "metadata": {},
     "output_type": "execute_result"
    }
   ],
   "source": [
    "corpus"
   ]
  },
  {
   "cell_type": "code",
   "execution_count": 10,
   "id": "c7a53e21-7877-4186-91d8-60af741e73cb",
   "metadata": {},
   "outputs": [
    {
     "name": "stdout",
     "output_type": "stream",
     "text": [
      "Hello! My name is Shivi Agarwal. I am learning Gen AI. \n",
      "\n"
     ]
    }
   ],
   "source": [
    "print(corpus)"
   ]
  },
  {
   "cell_type": "code",
   "execution_count": 57,
   "id": "29bc48c3-30ef-440e-aed7-da60442055ad",
   "metadata": {},
   "outputs": [],
   "source": [
    "import nltk\n",
    "nltk.download('punkt') ## in-case sent_tokenizer doesnt work."
   ]
  },
  {
   "cell_type": "code",
   "execution_count": 65,
   "id": "3a6505ad-0114-4564-885c-e73eb6111649",
   "metadata": {},
   "outputs": [],
   "source": [
    "from nltk.tokenize import sent_tokenize"
   ]
  },
  {
   "cell_type": "code",
   "execution_count": 61,
   "id": "e76653db-0fa9-44ad-8145-0706dabc08b0",
   "metadata": {},
   "outputs": [
    {
     "data": {
      "text/plain": [
       "['Hello!', 'My name is Shivi Agarwal.', 'I am learning Gen AI.']"
      ]
     },
     "execution_count": 61,
     "metadata": {},
     "output_type": "execute_result"
    }
   ],
   "source": [
    "sent_tokenize(corpus) ## Paragraph --> sentence"
   ]
  },
  {
   "cell_type": "code",
   "execution_count": 67,
   "id": "97065420-8227-4c82-9157-8fe13ab3ae16",
   "metadata": {},
   "outputs": [
    {
     "data": {
      "text/plain": [
       "list"
      ]
     },
     "execution_count": 67,
     "metadata": {},
     "output_type": "execute_result"
    }
   ],
   "source": [
    "type(sent_tokenize(corpus))"
   ]
  },
  {
   "cell_type": "markdown",
   "id": "ce20ca06-3af4-4b3a-b3ca-486297592ce7",
   "metadata": {},
   "source": [
    "Paragraph --> word"
   ]
  },
  {
   "cell_type": "code",
   "execution_count": 73,
   "id": "c3d57026-bba9-42a1-bf22-6d26a424d734",
   "metadata": {},
   "outputs": [],
   "source": [
    "from nltk.tokenize import word_tokenize"
   ]
  },
  {
   "cell_type": "code",
   "execution_count": 75,
   "id": "726b748c-dd93-4b18-a178-a12261628312",
   "metadata": {},
   "outputs": [
    {
     "name": "stdout",
     "output_type": "stream",
     "text": [
      "['Hello', '!', 'My', 'name', 'is', 'Shivi', 'Agarwal', '.', 'I', 'am', 'learning', 'Gen', 'AI', '.']\n"
     ]
    }
   ],
   "source": [
    "documents = word_tokenize(corpus)\n",
    "print(documents)"
   ]
  },
  {
   "cell_type": "code",
   "execution_count": 107,
   "id": "b493159e-00fd-4ff2-a449-8bd92da43cdc",
   "metadata": {},
   "outputs": [
    {
     "name": "stdout",
     "output_type": "stream",
     "text": [
      "Hello\n",
      "My\n",
      "name\n",
      "is\n",
      "Shivi\n",
      "Agarwal\n",
      "I\n",
      "am\n",
      "learning\n",
      "Gen\n",
      "AI\n"
     ]
    }
   ],
   "source": [
    "for tokens in documents:\n",
    "    if tokens != '.' and tokens != '!':\n",
    "     print(tokens)\n",
    "   "
   ]
  },
  {
   "cell_type": "code",
   "execution_count": 109,
   "id": "1596bf2f-290e-4a95-b824-12c51f2b18a2",
   "metadata": {},
   "outputs": [],
   "source": [
    "## Seperating punctuation marks also "
   ]
  },
  {
   "cell_type": "code",
   "execution_count": 115,
   "id": "2a8e6202-808f-447a-a516-75b133c6453c",
   "metadata": {},
   "outputs": [],
   "source": [
    "corpus+=\"It's the best course.\""
   ]
  },
  {
   "cell_type": "code",
   "execution_count": 117,
   "id": "2f44bfc1-3498-4435-bf84-e0af282ced00",
   "metadata": {},
   "outputs": [
    {
     "data": {
      "text/plain": [
       "\"Hello! My name is Shivi Agarwal. I am learning Gen AI. \\nIt's the best course.\""
      ]
     },
     "execution_count": 117,
     "metadata": {},
     "output_type": "execute_result"
    }
   ],
   "source": [
    "corpus"
   ]
  },
  {
   "cell_type": "code",
   "execution_count": 121,
   "id": "c5f62529-8bb8-438d-bbc1-0c0f0fa30389",
   "metadata": {},
   "outputs": [
    {
     "data": {
      "text/plain": [
       "['Hello',\n",
       " '!',\n",
       " 'My',\n",
       " 'name',\n",
       " 'is',\n",
       " 'Shivi',\n",
       " 'Agarwal',\n",
       " '.',\n",
       " 'I',\n",
       " 'am',\n",
       " 'learning',\n",
       " 'Gen',\n",
       " 'AI',\n",
       " '.',\n",
       " 'It',\n",
       " \"'s\",\n",
       " 'the',\n",
       " 'best',\n",
       " 'course',\n",
       " '.']"
      ]
     },
     "execution_count": 121,
     "metadata": {},
     "output_type": "execute_result"
    }
   ],
   "source": [
    "word_tokenize(corpus)"
   ]
  },
  {
   "cell_type": "code",
   "execution_count": 123,
   "id": "ec9c1c4d-44e1-4e9c-a04a-b80cec5d5b92",
   "metadata": {},
   "outputs": [],
   "source": [
    "from nltk.tokenize import wordpunct_tokenize"
   ]
  },
  {
   "cell_type": "code",
   "execution_count": 125,
   "id": "a9000385-357d-4f97-968e-48afd1e0c5eb",
   "metadata": {},
   "outputs": [
    {
     "data": {
      "text/plain": [
       "['Hello',\n",
       " '!',\n",
       " 'My',\n",
       " 'name',\n",
       " 'is',\n",
       " 'Shivi',\n",
       " 'Agarwal',\n",
       " '.',\n",
       " 'I',\n",
       " 'am',\n",
       " 'learning',\n",
       " 'Gen',\n",
       " 'AI',\n",
       " '.',\n",
       " 'It',\n",
       " \"'\",\n",
       " 's',\n",
       " 'the',\n",
       " 'best',\n",
       " 'course',\n",
       " '.']"
      ]
     },
     "execution_count": 125,
     "metadata": {},
     "output_type": "execute_result"
    }
   ],
   "source": [
    "wordpunct_tokenize(corpus) ##It has seperated even the apostrophe i.e. punctuation into a seperate word. \n",
    "                        ##Difference between word and wordpunct"
   ]
  },
  {
   "cell_type": "code",
   "execution_count": null,
   "id": "70955c2b-ff50-4eb7-9bc5-f24e75e0035e",
   "metadata": {},
   "outputs": [],
   "source": []
  }
 ],
 "metadata": {
  "kernelspec": {
   "display_name": "Python 3 (ipykernel)",
   "language": "python",
   "name": "python3"
  },
  "language_info": {
   "codemirror_mode": {
    "name": "ipython",
    "version": 3
   },
   "file_extension": ".py",
   "mimetype": "text/x-python",
   "name": "python",
   "nbconvert_exporter": "python",
   "pygments_lexer": "ipython3",
   "version": "3.12.4"
  }
 },
 "nbformat": 4,
 "nbformat_minor": 5
}
