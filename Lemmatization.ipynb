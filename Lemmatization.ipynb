{
 "cells": [
  {
   "cell_type": "code",
   "execution_count": 1,
   "id": "97aac98a-ceb0-4e90-bbc1-bc36a20cf378",
   "metadata": {},
   "outputs": [
    {
     "name": "stdout",
     "output_type": "stream",
     "text": [
      "fatal: destination path 'NLP' already exists and is not an empty directory.\n"
     ]
    }
   ],
   "source": [
    "!git clone https://github.com/shivixu/NLP.git"
   ]
  },
  {
   "cell_type": "markdown",
   "id": "b30e0365-9179-4aed-a8d4-15a82660f0c5",
   "metadata": {},
   "source": [
    "## WordNet Lemmatizer\n",
    "Lemmatization is like stemming only. But it produces a word that means something. The root word here is called \"lemma\". Returns the input word unchanged if it cannot be found in WordNet.\n",
    "\n",
    "Pos: noun-'n'\n",
    "adjective-'a'\n",
    "verb-'v'\n",
    "adverb-'r'"
   ]
  },
  {
   "cell_type": "code",
   "execution_count": 4,
   "id": "2b7e6f51-7d36-4f7f-b811-2a5dffb46fa5",
   "metadata": {},
   "outputs": [],
   "source": [
    "from nltk.stem import WordNetLemmatizer"
   ]
  },
  {
   "cell_type": "code",
   "execution_count": 15,
   "id": "1cc4bb76-1c83-4268-bb29-a94243756975",
   "metadata": {},
   "outputs": [
    {
     "name": "stderr",
     "output_type": "stream",
     "text": [
      "[nltk_data] Downloading package wordnet to /Users/shivi/nltk_data...\n"
     ]
    },
    {
     "data": {
      "text/plain": [
       "True"
      ]
     },
     "execution_count": 15,
     "metadata": {},
     "output_type": "execute_result"
    }
   ],
   "source": [
    "import nltk\n",
    "nltk.download('wordnet')"
   ]
  },
  {
   "cell_type": "code",
   "execution_count": 8,
   "id": "42b41c69-2a20-4cbe-8529-0da28be4a448",
   "metadata": {},
   "outputs": [],
   "source": [
    "lemma = WordNetLemmatizer()"
   ]
  },
  {
   "cell_type": "code",
   "execution_count": 17,
   "id": "077caecb-b315-4436-97ec-aec26b5b57ad",
   "metadata": {},
   "outputs": [
    {
     "data": {
      "text/plain": [
       "'going'"
      ]
     },
     "execution_count": 17,
     "metadata": {},
     "output_type": "execute_result"
    }
   ],
   "source": [
    "lemma.lemmatize(\"going\")   ##Pos tag is treated as a noun."
   ]
  },
  {
   "cell_type": "code",
   "execution_count": 21,
   "id": "5274faeb-7656-4d06-a39b-f1bde8b0d0e1",
   "metadata": {},
   "outputs": [
    {
     "data": {
      "text/plain": [
       "'go'"
      ]
     },
     "execution_count": 21,
     "metadata": {},
     "output_type": "execute_result"
    }
   ],
   "source": [
    "lemma.lemmatize(\"going\" ,pos='v')  ##When I said its a verb, it gave me the right output."
   ]
  },
  {
   "cell_type": "code",
   "execution_count": null,
   "id": "7bfbf403-0043-466d-8e4f-d0975c1e30d5",
   "metadata": {},
   "outputs": [],
   "source": []
  }
 ],
 "metadata": {
  "kernelspec": {
   "display_name": "Python 3 (ipykernel)",
   "language": "python",
   "name": "python3"
  },
  "language_info": {
   "codemirror_mode": {
    "name": "ipython",
    "version": 3
   },
   "file_extension": ".py",
   "mimetype": "text/x-python",
   "name": "python",
   "nbconvert_exporter": "python",
   "pygments_lexer": "ipython3",
   "version": "3.12.4"
  }
 },
 "nbformat": 4,
 "nbformat_minor": 5
}
